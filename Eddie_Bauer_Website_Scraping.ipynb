{
 "cells": [
  {
   "cell_type": "code",
   "execution_count": 1,
   "id": "1d2db05f",
   "metadata": {},
   "outputs": [
    {
     "name": "stdout",
     "output_type": "stream",
     "text": [
      "Requirement already satisfied: bs4 in c:\\users\\maheedhar vundela\\anaconda\\lib\\site-packages (0.0.1)\n",
      "Requirement already satisfied: beautifulsoup4 in c:\\users\\maheedhar vundela\\anaconda\\lib\\site-packages (from bs4) (4.12.2)\n",
      "Requirement already satisfied: soupsieve>1.2 in c:\\users\\maheedhar vundela\\anaconda\\lib\\site-packages (from beautifulsoup4->bs4) (2.4)\n"
     ]
    }
   ],
   "source": [
    "!pip install bs4"
   ]
  },
  {
   "cell_type": "code",
   "execution_count": 2,
   "id": "5ad36f21",
   "metadata": {},
   "outputs": [
    {
     "name": "stdout",
     "output_type": "stream",
     "text": [
      "Requirement already satisfied: requests in c:\\users\\maheedhar vundela\\anaconda\\lib\\site-packages (2.29.0)\n",
      "Requirement already satisfied: charset-normalizer<4,>=2 in c:\\users\\maheedhar vundela\\anaconda\\lib\\site-packages (from requests) (2.0.4)\n",
      "Requirement already satisfied: idna<4,>=2.5 in c:\\users\\maheedhar vundela\\anaconda\\lib\\site-packages (from requests) (3.4)\n",
      "Requirement already satisfied: urllib3<1.27,>=1.21.1 in c:\\users\\maheedhar vundela\\anaconda\\lib\\site-packages (from requests) (1.26.16)\n",
      "Requirement already satisfied: certifi>=2017.4.17 in c:\\users\\maheedhar vundela\\anaconda\\lib\\site-packages (from requests) (2023.5.7)\n"
     ]
    }
   ],
   "source": [
    "!pip install requests"
   ]
  },
  {
   "cell_type": "code",
   "execution_count": 3,
   "id": "5cea7e27",
   "metadata": {},
   "outputs": [
    {
     "name": "stdout",
     "output_type": "stream",
     "text": [
      "Requirement already satisfied: pandas in c:\\users\\maheedhar vundela\\anaconda\\lib\\site-packages (1.5.3)\n",
      "Requirement already satisfied: python-dateutil>=2.8.1 in c:\\users\\maheedhar vundela\\anaconda\\lib\\site-packages (from pandas) (2.8.2)\n",
      "Requirement already satisfied: pytz>=2020.1 in c:\\users\\maheedhar vundela\\anaconda\\lib\\site-packages (from pandas) (2022.7)\n",
      "Requirement already satisfied: numpy>=1.21.0 in c:\\users\\maheedhar vundela\\anaconda\\lib\\site-packages (from pandas) (1.24.3)\n",
      "Requirement already satisfied: six>=1.5 in c:\\users\\maheedhar vundela\\anaconda\\lib\\site-packages (from python-dateutil>=2.8.1->pandas) (1.16.0)\n"
     ]
    }
   ],
   "source": [
    "!pip install pandas"
   ]
  },
  {
   "cell_type": "code",
   "execution_count": 5,
   "id": "da9d074e",
   "metadata": {},
   "outputs": [],
   "source": [
    "from bs4 import BeautifulSoup\n",
    "import requests\n",
    "import pandas as pd\n",
    "import numpy as np\n",
    "import re"
   ]
  },
  {
   "cell_type": "code",
   "execution_count": 6,
   "id": "44076742",
   "metadata": {},
   "outputs": [],
   "source": [
    "#function to extract product label\n",
    "def get_title(soup):\n",
    "    \n",
    "    try:\n",
    "        \n",
    "        title = soup.find(\"title\", attrs = {}).text.strip()\n",
    "        \n",
    "    except AttributeError:\n",
    "        title = \"\"\n",
    "    \n",
    "    return title"
   ]
  },
  {
   "cell_type": "code",
   "execution_count": 7,
   "id": "acdbffc2",
   "metadata": {},
   "outputs": [],
   "source": [
    "#function to extract Product Offer Price\n",
    "\n",
    "def get_offerprice(soup):\n",
    "    \n",
    "    try:\n",
    "        \n",
    "        price_text = soup.find(\"span\", attrs = {\"class\": \"offer\"}).text.strip()\n",
    "        \n",
    "        offer_price = re.sub(r'^.*?(\\d+\\.\\d+ CAD)', r'\\1', price_text)\n",
    "        \n",
    "    except AttributeError:\n",
    "        offer_price = \"\"\n",
    "        \n",
    "    return offer_price"
   ]
  },
  {
   "cell_type": "code",
   "execution_count": 17,
   "id": "2e3fbd82",
   "metadata": {},
   "outputs": [],
   "source": [
    "#function to extract the rating of a product\n",
    "\n",
    "def get_rating(soup):\n",
    "    \n",
    "    try:\n",
    "        \n",
    "        review_rating = soup.find(\"div\", attrs = {\"class\": \"sc-jtRfpW burazA\"}).text.strip()\n",
    "        \n",
    "        rating = re.sub(r'[^0-9.]', '', review_rating)\n",
    "    \n",
    "    except AttributeError:\n",
    "        \n",
    "        rating = \"\"\n",
    "    \n",
    "    return rating\n",
    "        "
   ]
  },
  {
   "cell_type": "code",
   "execution_count": null,
   "id": "10210124",
   "metadata": {},
   "outputs": [],
   "source": [
    "# #function to extract reviews\n",
    "\n",
    "# def get_review(soup):\n",
    "    \n",
    "#     try:\n",
    "#         review = soup.find(\"div\", attrs = {\"class\": \"reviews_count\"}).find(\"span\", attrs ={})\n",
    "        \n",
    "#     except AttributeError:\n",
    "#         review = \"\"\n",
    "    \n",
    "#     return review"
   ]
  },
  {
   "cell_type": "code",
   "execution_count": null,
   "id": "38e8bdb8",
   "metadata": {},
   "outputs": [],
   "source": [
    "if __name__ == '__main__':\n",
    "    \n",
    "    #URL\n",
    "    URL = 'https://www.eddiebauer.ca/c/20001/men?cm_sp=topnav_m_featured_viewall'\n",
    "    \n",
    "    #user agent\n",
    "    HEADERS = ({'User-Agent': 'Mozilla/5.0 (Windows NT 10.0; Win64; x64) AppleWebKit/537.36 (KHTML, like Gecko) Chrome/118.0.0.0 Safari/537.36','Accept-Language': 'en-US, en;q=0.5'})\n",
    "    \n",
    "    #HTTP Request\n",
    "    session = requests.Session()\n",
    "    webpage = session.get(URL, headers = HEADERS)\n",
    "    \n",
    "    #Soup Object\n",
    "    soup = BeautifulSoup(webpage.content, 'html.parser')\n",
    "    \n",
    "    #Fetch links\n",
    "    links = soup.find_all(\"a\", attrs = {'class': 'wrapper'})\n",
    "    \n",
    "    #Store all links in a list\n",
    "    links_list = []\n",
    "    \n",
    "    #extract links to the list\n",
    "    for link in links:\n",
    "        links_list.append(link.get('href'))\n",
    "    \n",
    "    dic = {\"title\":[], \"offer_price\":[], \"ratings\": []}\n",
    "    \n",
    "    #Extracting product details\n",
    "    for link in links_list:\n",
    "        product_link = \"https://www.eddiebauer.ca\" + link\n",
    "        new_webpage = session.get(product_link, headers = HEADERS)\n",
    "        \n",
    "        new_soup = BeautifulSoup(new_webpage.content, \"html.parser\")\n",
    "        \n",
    "        #function calls to display product information\n",
    "        dic['title'].append(get_title(new_soup))\n",
    "        dic['offer_price'].append(get_offerprice(new_soup))\n",
    "        dic['ratings'].append(get_rating(new_soup))\n",
    "#         dic['reviews'].append(get_review(new_soup))\n",
    "        \n",
    "        \n",
    "        data_df = pd.DataFrame.from_dict(dic)\n",
    "        data_df['title'].replace('', np.nan, inplace=True)\n",
    "        data_df = data_df.dropna(subset = [\"title\"])\n",
    "        data_df.to_csv(\"Eddie_Bauer_data.csv\", header=True, index=False)"
   ]
  },
  {
   "cell_type": "code",
   "execution_count": 23,
   "id": "fdee4cab",
   "metadata": {},
   "outputs": [
    {
     "data": {
      "text/html": [
       "<div>\n",
       "<style scoped>\n",
       "    .dataframe tbody tr th:only-of-type {\n",
       "        vertical-align: middle;\n",
       "    }\n",
       "\n",
       "    .dataframe tbody tr th {\n",
       "        vertical-align: top;\n",
       "    }\n",
       "\n",
       "    .dataframe thead th {\n",
       "        text-align: right;\n",
       "    }\n",
       "</style>\n",
       "<table border=\"1\" class=\"dataframe\">\n",
       "  <thead>\n",
       "    <tr style=\"text-align: right;\">\n",
       "      <th></th>\n",
       "      <th>title</th>\n",
       "      <th>offer_price</th>\n",
       "      <th>ratings</th>\n",
       "    </tr>\n",
       "  </thead>\n",
       "  <tbody>\n",
       "    <tr>\n",
       "      <th>0</th>\n",
       "      <td>Men's Powder Search 2.0 3-in-1 Jacket | Eddie ...</td>\n",
       "      <td>275.40 CAD</td>\n",
       "      <td>4.75</td>\n",
       "    </tr>\n",
       "    <tr>\n",
       "      <th>1</th>\n",
       "      <td>Men's Powder Search 2.0 3-in-1 Jacket | Eddie ...</td>\n",
       "      <td>275.40 CAD</td>\n",
       "      <td>4.75</td>\n",
       "    </tr>\n",
       "    <tr>\n",
       "      <th>2</th>\n",
       "      <td>Men's Eddie's Favorite Ultrasoft Thermal Henle...</td>\n",
       "      <td>42.00 CAD</td>\n",
       "      <td>4.75</td>\n",
       "    </tr>\n",
       "    <tr>\n",
       "      <th>3</th>\n",
       "      <td>Men's Eddie's Favorite Ultrasoft Thermal Henle...</td>\n",
       "      <td>42.00 CAD</td>\n",
       "      <td>4.75</td>\n",
       "    </tr>\n",
       "    <tr>\n",
       "      <th>4</th>\n",
       "      <td>Men's Superior Down Parka | Eddie Bauer</td>\n",
       "      <td>269.40 CAD</td>\n",
       "      <td>4.65</td>\n",
       "    </tr>\n",
       "    <tr>\n",
       "      <th>...</th>\n",
       "      <td>...</td>\n",
       "      <td>...</td>\n",
       "      <td>...</td>\n",
       "    </tr>\n",
       "    <tr>\n",
       "      <th>139</th>\n",
       "      <td>Men's Faultline Corduroy Shirt | Eddie Bauer</td>\n",
       "      <td>72.00 CAD</td>\n",
       "      <td>4.75</td>\n",
       "    </tr>\n",
       "    <tr>\n",
       "      <th>140</th>\n",
       "      <td>Men's Ignitelite Stretch Reversible Hooded Jac...</td>\n",
       "      <td>179.40 CAD</td>\n",
       "      <td>4.75</td>\n",
       "    </tr>\n",
       "    <tr>\n",
       "      <th>141</th>\n",
       "      <td>Men's Ignitelite Stretch Reversible Hooded Jac...</td>\n",
       "      <td>179.40 CAD</td>\n",
       "      <td>4.75</td>\n",
       "    </tr>\n",
       "    <tr>\n",
       "      <th>142</th>\n",
       "      <td>Men's Astrolite Hooded Jacket | Eddie Bauer</td>\n",
       "      <td>155.40 CAD</td>\n",
       "      <td>4.55</td>\n",
       "    </tr>\n",
       "    <tr>\n",
       "      <th>143</th>\n",
       "      <td>Men's Astrolite Hooded Jacket | Eddie Bauer</td>\n",
       "      <td>155.40 CAD</td>\n",
       "      <td>4.55</td>\n",
       "    </tr>\n",
       "  </tbody>\n",
       "</table>\n",
       "<p>144 rows × 3 columns</p>\n",
       "</div>"
      ],
      "text/plain": [
       "                                                 title offer_price ratings\n",
       "0    Men's Powder Search 2.0 3-in-1 Jacket | Eddie ...  275.40 CAD    4.75\n",
       "1    Men's Powder Search 2.0 3-in-1 Jacket | Eddie ...  275.40 CAD    4.75\n",
       "2    Men's Eddie's Favorite Ultrasoft Thermal Henle...   42.00 CAD    4.75\n",
       "3    Men's Eddie's Favorite Ultrasoft Thermal Henle...   42.00 CAD    4.75\n",
       "4              Men's Superior Down Parka | Eddie Bauer  269.40 CAD    4.65\n",
       "..                                                 ...         ...     ...\n",
       "139       Men's Faultline Corduroy Shirt | Eddie Bauer   72.00 CAD    4.75\n",
       "140  Men's Ignitelite Stretch Reversible Hooded Jac...  179.40 CAD    4.75\n",
       "141  Men's Ignitelite Stretch Reversible Hooded Jac...  179.40 CAD    4.75\n",
       "142        Men's Astrolite Hooded Jacket | Eddie Bauer  155.40 CAD    4.55\n",
       "143        Men's Astrolite Hooded Jacket | Eddie Bauer  155.40 CAD    4.55\n",
       "\n",
       "[144 rows x 3 columns]"
      ]
     },
     "execution_count": 23,
     "metadata": {},
     "output_type": "execute_result"
    }
   ],
   "source": [
    "data_df\n"
   ]
  },
  {
   "cell_type": "code",
   "execution_count": 28,
   "id": "6189a4a5",
   "metadata": {},
   "outputs": [],
   "source": [
    "data_df.to_csv(\"Scraped_Data.csv\", index = \"false\")"
   ]
  },
  {
   "cell_type": "code",
   "execution_count": null,
   "id": "a38e866d",
   "metadata": {},
   "outputs": [],
   "source": []
  }
 ],
 "metadata": {
  "kernelspec": {
   "display_name": "Python 3 (ipykernel)",
   "language": "python",
   "name": "python3"
  },
  "language_info": {
   "codemirror_mode": {
    "name": "ipython",
    "version": 3
   },
   "file_extension": ".py",
   "mimetype": "text/x-python",
   "name": "python",
   "nbconvert_exporter": "python",
   "pygments_lexer": "ipython3",
   "version": "3.11.3"
  }
 },
 "nbformat": 4,
 "nbformat_minor": 5
}
